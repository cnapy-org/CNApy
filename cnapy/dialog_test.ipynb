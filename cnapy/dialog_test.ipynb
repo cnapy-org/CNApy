{
 "cells": [
  {
   "cell_type": "code",
   "execution_count": 1,
   "metadata": {},
   "outputs": [
    {
     "name": "stdout",
     "output_type": "stream",
     "text": [
      "Set parameter Username\n",
      "Academic license - for non-commercial use only - expires 2023-03-02\n"
     ]
    },
    {
     "name": "stderr",
     "output_type": "stream",
     "text": [
      "openjdk version \"1.8.0_312\"\n",
      "OpenJDK Runtime Environment (Zulu 8.58.0.13-CA-linux64) (build 1.8.0_312-b07)\n",
      "OpenJDK 64-Bit Server VM (Zulu 8.58.0.13-CA-linux64) (build 25.312-b07, mixed mode)\n",
      "QApplication: invalid style override passed, ignoring it.\n",
      "    Available styles: Windows, Fusion\n"
     ]
    }
   ],
   "source": [
    "%load_ext autoreload\n",
    "import sys\n",
    "from qtpy.QtWidgets import QApplication,QWidget\n",
    "from qtpy.QtCore import Signal, Qt\n",
    "from cnapy.gui_elements.mcs_dialog import MCSDialog\n",
    "from cnapy.gui_elements.strain_design_dialog import SDDialog,\\\n",
    "                            StrainDesignComputationDialog\n",
    "from cnapy.appdata import AppData\n",
    "from cnapy.gui_elements.main_window import MainWindow\n",
    "from cnapy.gui_elements.central_widget import CentralWidget\n",
    "from cobra.io import read_sbml_model\n",
    "from os.path import dirname, abspath\n",
    "from importlib import reload\n",
    "from mcs import compute_strain_designs\n",
    "import json\n",
    "\n",
    "class CentralWidget(QWidget):\n",
    "    def __init__(self, appdata):\n",
    "        QWidget.__init__(self)\n",
    "        self.appdata = appdata\n",
    "    broadcastReactionID = Signal(str)\n",
    "    \n",
    "model = read_sbml_model(\"/scratch/Python/mcs/examples/e_coli_core.sbml\")\n",
    "# model = read_sbml_model(\"C:/Users/Philipp/Documents/Python/mcs/examples/e_coli_core.sbml\")\n",
    "# Handle high resolution displays:\n",
    "QApplication.setAttribute(Qt.AA_EnableHighDpiScaling, True)\n",
    "QApplication.setAttribute(Qt.AA_UseHighDpiPixmaps, True)\n",
    "# Create the Qt Application\n",
    "app = QApplication(sys.argv)\n",
    "app.setStyle(\"fusion\")\n",
    "ad = AppData()\n",
    "ad.project.cobra_py_model = model\n",
    "# ad.window = MainWindow(ad)\n",
    "cw = CentralWidget(ad)"
   ]
  },
  {
   "cell_type": "code",
   "execution_count": null,
   "metadata": {},
   "outputs": [],
   "source": [
    "%autoreload\n",
    "# Create and show the form\n",
    "form = SDDialog(ad,cw)\n",
    "form.show()\n",
    "# form1 = MCSDialog(ad,cw)\n",
    "# form1.show()\n",
    "print('done')\n",
    "# Run thEe main Qt loop\n",
    "try:\n",
    "    sys.exit(app.exec())\n",
    "except:\n",
    "    pass"
   ]
  },
  {
   "cell_type": "code",
   "execution_count": 2,
   "metadata": {},
   "outputs": [
    {
     "name": "stderr",
     "output_type": "stream",
     "text": [
      "Error in sys.excepthook:\n",
      "\n",
      "Original exception was:\n",
      "Error in sys.excepthook:\n",
      "\n",
      "Original exception was:\n",
      "Error in sys.excepthook:\n",
      "\n",
      "Original exception was:\n"
     ]
    }
   ],
   "source": [
    "%autoreload\n",
    "with open('/home/schneiderp/CNApy-projects/example.sd', 'r') as fp:\n",
    "    sd_setup = fp.read()\n",
    "sd_dialog = StrainDesignComputationDialog(ad, sd_setup)\n",
    "sd_dialog.exec()\n"
   ]
  },
  {
   "cell_type": "code",
   "execution_count": 10,
   "metadata": {},
   "outputs": [
    {
     "name": "stdout",
     "output_type": "stream",
     "text": [
      "Preparing strain design computation.\n",
      "  Using cplex for solving LPs during preprocessing.\n"
     ]
    },
    {
     "name": "stderr",
     "output_type": "stream",
     "text": [
      "Error in sys.excepthook:\n",
      "\n",
      "Original exception was:\n",
      "Error in sys.excepthook:\n",
      "\n",
      "Original exception was:\n",
      "Error in sys.excepthook:\n",
      "\n",
      "Original exception was:\n"
     ]
    },
    {
     "name": "stdout",
     "output_type": "stream",
     "text": [
      "  FVA to identify blocked reactions and irreversibilities.\n",
      "  FVA(s) to identify essential reactions.\n",
      "Preprocessing GPR rules (137 genes, 69 gpr rules).\n",
      "  Simplifyied to 132 genes and 65 gpr rules.\n",
      "  Extending metabolic network with gpr associations.\n"
     ]
    },
    {
     "name": "stderr",
     "output_type": "stream",
     "text": [
      "Error in sys.excepthook:\n",
      "\n",
      "Original exception was:\n",
      "Error in sys.excepthook:\n",
      "\n",
      "Original exception was:\n",
      "Error in sys.excepthook:\n",
      "\n",
      "Original exception was:\n"
     ]
    },
    {
     "name": "stdout",
     "output_type": "stream",
     "text": [
      "Compressing Network (326 reactions).\n",
      "  Removing blocked reactions.\n",
      "  Translating stoichiometric coefficients to rationals.\n",
      "  Removing conservation relations.\n",
      "  Compression 1: Applying compression from EFM-tool module.\n"
     ]
    },
    {
     "ename": "KeyboardInterrupt",
     "evalue": "",
     "output_type": "error",
     "traceback": [
      "\u001b[0;31m---------------------------------------------------------------------------\u001b[0m",
      "\u001b[0;31mKeyboardInterrupt\u001b[0m                         Traceback (most recent call last)",
      "\u001b[0;32m/tmp/ipykernel_8628/635907509.py\u001b[0m in \u001b[0;36m<module>\u001b[0;34m\u001b[0m\n\u001b[1;32m     11\u001b[0m     \u001b[0mp\u001b[0m \u001b[0;34m=\u001b[0m \u001b[0mmp\u001b[0m\u001b[0;34m.\u001b[0m\u001b[0mProcess\u001b[0m\u001b[0;34m(\u001b[0m\u001b[0mtarget\u001b[0m\u001b[0;34m=\u001b[0m\u001b[0mf\u001b[0m\u001b[0;34m,\u001b[0m\u001b[0margs\u001b[0m\u001b[0;34m=\u001b[0m\u001b[0;34m(\u001b[0m\u001b[0mmodel\u001b[0m\u001b[0;34m,\u001b[0m\u001b[0;34m)\u001b[0m\u001b[0;34m)\u001b[0m\u001b[0;34m\u001b[0m\u001b[0;34m\u001b[0m\u001b[0m\n\u001b[1;32m     12\u001b[0m     \u001b[0mp\u001b[0m\u001b[0;34m.\u001b[0m\u001b[0mstart\u001b[0m\u001b[0;34m(\u001b[0m\u001b[0;34m)\u001b[0m\u001b[0;34m\u001b[0m\u001b[0;34m\u001b[0m\u001b[0m\n\u001b[0;32m---> 13\u001b[0;31m     \u001b[0mp\u001b[0m\u001b[0;34m.\u001b[0m\u001b[0mjoin\u001b[0m\u001b[0;34m(\u001b[0m\u001b[0;34m)\u001b[0m\u001b[0;34m\u001b[0m\u001b[0;34m\u001b[0m\u001b[0m\n\u001b[0m",
      "\u001b[0;32m/scratch/Programs/miniconda/envs/cnapy-dev/lib/python3.7/multiprocessing/process.py\u001b[0m in \u001b[0;36mjoin\u001b[0;34m(self, timeout)\u001b[0m\n\u001b[1;32m    138\u001b[0m         \u001b[0;32massert\u001b[0m \u001b[0mself\u001b[0m\u001b[0;34m.\u001b[0m\u001b[0m_parent_pid\u001b[0m \u001b[0;34m==\u001b[0m \u001b[0mos\u001b[0m\u001b[0;34m.\u001b[0m\u001b[0mgetpid\u001b[0m\u001b[0;34m(\u001b[0m\u001b[0;34m)\u001b[0m\u001b[0;34m,\u001b[0m \u001b[0;34m'can only join a child process'\u001b[0m\u001b[0;34m\u001b[0m\u001b[0;34m\u001b[0m\u001b[0m\n\u001b[1;32m    139\u001b[0m         \u001b[0;32massert\u001b[0m \u001b[0mself\u001b[0m\u001b[0;34m.\u001b[0m\u001b[0m_popen\u001b[0m \u001b[0;32mis\u001b[0m \u001b[0;32mnot\u001b[0m \u001b[0;32mNone\u001b[0m\u001b[0;34m,\u001b[0m \u001b[0;34m'can only join a started process'\u001b[0m\u001b[0;34m\u001b[0m\u001b[0;34m\u001b[0m\u001b[0m\n\u001b[0;32m--> 140\u001b[0;31m         \u001b[0mres\u001b[0m \u001b[0;34m=\u001b[0m \u001b[0mself\u001b[0m\u001b[0;34m.\u001b[0m\u001b[0m_popen\u001b[0m\u001b[0;34m.\u001b[0m\u001b[0mwait\u001b[0m\u001b[0;34m(\u001b[0m\u001b[0mtimeout\u001b[0m\u001b[0;34m)\u001b[0m\u001b[0;34m\u001b[0m\u001b[0;34m\u001b[0m\u001b[0m\n\u001b[0m\u001b[1;32m    141\u001b[0m         \u001b[0;32mif\u001b[0m \u001b[0mres\u001b[0m \u001b[0;32mis\u001b[0m \u001b[0;32mnot\u001b[0m \u001b[0;32mNone\u001b[0m\u001b[0;34m:\u001b[0m\u001b[0;34m\u001b[0m\u001b[0;34m\u001b[0m\u001b[0m\n\u001b[1;32m    142\u001b[0m             \u001b[0m_children\u001b[0m\u001b[0;34m.\u001b[0m\u001b[0mdiscard\u001b[0m\u001b[0;34m(\u001b[0m\u001b[0mself\u001b[0m\u001b[0;34m)\u001b[0m\u001b[0;34m\u001b[0m\u001b[0;34m\u001b[0m\u001b[0m\n",
      "\u001b[0;32m/scratch/Programs/miniconda/envs/cnapy-dev/lib/python3.7/multiprocessing/popen_fork.py\u001b[0m in \u001b[0;36mwait\u001b[0;34m(self, timeout)\u001b[0m\n\u001b[1;32m     46\u001b[0m                     \u001b[0;32mreturn\u001b[0m \u001b[0;32mNone\u001b[0m\u001b[0;34m\u001b[0m\u001b[0;34m\u001b[0m\u001b[0m\n\u001b[1;32m     47\u001b[0m             \u001b[0;31m# This shouldn't block if wait() returned successfully.\u001b[0m\u001b[0;34m\u001b[0m\u001b[0;34m\u001b[0m\u001b[0;34m\u001b[0m\u001b[0m\n\u001b[0;32m---> 48\u001b[0;31m             \u001b[0;32mreturn\u001b[0m \u001b[0mself\u001b[0m\u001b[0;34m.\u001b[0m\u001b[0mpoll\u001b[0m\u001b[0;34m(\u001b[0m\u001b[0mos\u001b[0m\u001b[0;34m.\u001b[0m\u001b[0mWNOHANG\u001b[0m \u001b[0;32mif\u001b[0m \u001b[0mtimeout\u001b[0m \u001b[0;34m==\u001b[0m \u001b[0;36m0.0\u001b[0m \u001b[0;32melse\u001b[0m \u001b[0;36m0\u001b[0m\u001b[0;34m)\u001b[0m\u001b[0;34m\u001b[0m\u001b[0;34m\u001b[0m\u001b[0m\n\u001b[0m\u001b[1;32m     49\u001b[0m         \u001b[0;32mreturn\u001b[0m \u001b[0mself\u001b[0m\u001b[0;34m.\u001b[0m\u001b[0mreturncode\u001b[0m\u001b[0;34m\u001b[0m\u001b[0;34m\u001b[0m\u001b[0m\n\u001b[1;32m     50\u001b[0m \u001b[0;34m\u001b[0m\u001b[0m\n",
      "\u001b[0;32m/scratch/Programs/miniconda/envs/cnapy-dev/lib/python3.7/multiprocessing/popen_fork.py\u001b[0m in \u001b[0;36mpoll\u001b[0;34m(self, flag)\u001b[0m\n\u001b[1;32m     26\u001b[0m         \u001b[0;32mif\u001b[0m \u001b[0mself\u001b[0m\u001b[0;34m.\u001b[0m\u001b[0mreturncode\u001b[0m \u001b[0;32mis\u001b[0m \u001b[0;32mNone\u001b[0m\u001b[0;34m:\u001b[0m\u001b[0;34m\u001b[0m\u001b[0;34m\u001b[0m\u001b[0m\n\u001b[1;32m     27\u001b[0m             \u001b[0;32mtry\u001b[0m\u001b[0;34m:\u001b[0m\u001b[0;34m\u001b[0m\u001b[0;34m\u001b[0m\u001b[0m\n\u001b[0;32m---> 28\u001b[0;31m                 \u001b[0mpid\u001b[0m\u001b[0;34m,\u001b[0m \u001b[0msts\u001b[0m \u001b[0;34m=\u001b[0m \u001b[0mos\u001b[0m\u001b[0;34m.\u001b[0m\u001b[0mwaitpid\u001b[0m\u001b[0;34m(\u001b[0m\u001b[0mself\u001b[0m\u001b[0;34m.\u001b[0m\u001b[0mpid\u001b[0m\u001b[0;34m,\u001b[0m \u001b[0mflag\u001b[0m\u001b[0;34m)\u001b[0m\u001b[0;34m\u001b[0m\u001b[0;34m\u001b[0m\u001b[0m\n\u001b[0m\u001b[1;32m     29\u001b[0m             \u001b[0;32mexcept\u001b[0m \u001b[0mOSError\u001b[0m \u001b[0;32mas\u001b[0m \u001b[0me\u001b[0m\u001b[0;34m:\u001b[0m\u001b[0;34m\u001b[0m\u001b[0;34m\u001b[0m\u001b[0m\n\u001b[1;32m     30\u001b[0m                 \u001b[0;31m# Child process not yet created. See #1731717\u001b[0m\u001b[0;34m\u001b[0m\u001b[0;34m\u001b[0m\u001b[0;34m\u001b[0m\u001b[0m\n",
      "\u001b[0;31mKeyboardInterrupt\u001b[0m: "
     ]
    }
   ],
   "source": [
    "%autoreload\n",
    "import QTCore\n",
    "\n",
    "def f(model):\n",
    "    with open('/scratch/Python/CNApy/cnapy/sd_computation.json', 'r') as fp:\n",
    "        sd_setup = json.load(fp)\n",
    "    modules = sd_setup.pop('modules')\n",
    "    rmcs, gmcs = compute_strain_designs(model, modules, **sd_setup)\n",
    "\n",
    "if __name__ == '__main__':\n",
    "    p = mp.Process(target=f,args=(model,))\n",
    "    p.start()\n",
    "    p.join()"
   ]
  },
  {
   "cell_type": "code",
   "execution_count": 2,
   "metadata": {},
   "outputs": [
    {
     "name": "stdout",
     "output_type": "stream",
     "text": [
      "Preparing strain design computation.\n",
      "  Using cplex for solving LPs during preprocessing.\n"
     ]
    },
    {
     "name": "stderr",
     "output_type": "stream",
     "text": [
      "Error in sys.excepthook:\n",
      "\n",
      "Original exception was:\n",
      "Error in sys.excepthook:\n",
      "\n",
      "Original exception was:\n",
      "Error in sys.excepthook:\n",
      "\n",
      "Original exception was:\n"
     ]
    },
    {
     "name": "stdout",
     "output_type": "stream",
     "text": [
      "  FVA to identify blocked reactions and irreversibilities.\n",
      "  FVA(s) to identify essential reactions.\n",
      "Preprocessing GPR rules (137 genes, 69 gpr rules).\n",
      "  Simplifyied to 132 genes and 65 gpr rules.\n",
      "  Extending metabolic network with gpr associations.\n"
     ]
    },
    {
     "name": "stderr",
     "output_type": "stream",
     "text": [
      "Error in sys.excepthook:\n",
      "\n",
      "Original exception was:\n",
      "Error in sys.excepthook:\n",
      "\n",
      "Original exception was:\n",
      "Error in sys.excepthook:\n",
      "\n",
      "Original exception was:\n"
     ]
    },
    {
     "name": "stdout",
     "output_type": "stream",
     "text": [
      "Compressing Network (326 reactions).\n",
      "  Removing blocked reactions.\n",
      "  Translating stoichiometric coefficients to rationals.\n",
      "  Removing conservation relations.\n",
      "  Compression 1: Applying compression from EFM-tool module.\n",
      "  Reduced to 159 reactions.\n",
      "  Compression 2: Lumping parallel reactions.\n",
      "  Reduced to 130 reactions.\n",
      "  Compression 3: Applying compression from EFM-tool module.\n",
      "  Reduced to 115 reactions.\n",
      "  Compression 4: Lumping parallel reactions.\n",
      "  Reduced to 113 reactions.\n",
      "  Compression 5: Applying compression from EFM-tool module.\n",
      "  Reduced to 111 reactions.\n",
      "  Compression 6: Lumping parallel reactions.\n",
      "  Last step could not reduce size further (111 reactions).\n",
      "  Network compression completed. (5 compression iterations)\n",
      "  Translating stoichiometric coefficients back to float.\n",
      "Finished preprocessing:\n",
      "  Model size: 111 reactions, 64 metabolites\n",
      "  54 targetable reactions\n",
      "Constructing strain design MILP for solver: cplex.\n",
      "Bounding MILP.\n",
      "Enumerating strain designs ...\n",
      "Strain designs with cost 1.0: [{'eno': -1.0}]\n",
      "Strain designs with cost 1.0: [{'pgk': -1.0}]\n",
      "Strain designs with cost 1.0: [{'gapA': -1.0}]\n",
      "Strain designs with cost 1.0: [{'EX_glc__D_e*GLCpts*ptsH*ptsI...': -1.0}]\n",
      "Strain designs with cost 2.0: [{'NADH16*nuoN*nuoM*nuoL*nuoK*nuoJ*nuoI*nuoH*nuoG*nuoF*nuoE*nuoC*nuoB*nuoA...': -1.0, 'pgi': -1.0}]\n",
      "Strain designs with cost 2.0: [{'s0001': -1.0, 'tpiA': -1.0}]\n",
      "Strain designs with cost 2.0: [{'NADH16*nuoN*nuoM*nuoL*nuoK*nuoJ*nuoI*nuoH*nuoG*nuoF*nuoE*nuoC*nuoB*nuoA...': -1.0, 'tpiA': -1.0}]\n",
      "Strain designs with cost 2.0: [{'pgi': -1.0, 'tpiA': -1.0}]\n",
      "Strain designs with cost 2.0: [{'PGL*G6PDH2r*GND*pgl*zwf*gnd': -1.0, 'pgi': -1.0}]\n",
      "Strain designs with cost 2.0: [{'PGL*G6PDH2r*GND*pgl*zwf*gnd': -1.0, 'tpiA': -1.0}]\n",
      "Strain designs with cost 2.0: [{'pgi': -1.0, 's0001': -1.0}]\n",
      "Strain designs with cost 2.0: [{'mhpF*R0_g_b0351_or_g_b1241': -1.0, 'adhE': -1.0}]\n",
      "Strain designs with cost 3.0: [{'gpmA*R0_g_b0755_or_g_b3612_or_g_b4395*gpmM*R1_g_b0755_or_g_b3612_or_g_b4395*ytjC*R2_g_b0755_or_g_b3612_or_g_b4395': -1.0}]\n",
      "Strain designs with cost 3.0: [{'PFL*EX_for_e*pflA*pflB*R_g_b0902_and_g_b0903*R0_g_b0902_and_g_b0903_or_g_b0902_and_g_b3114_or_g_b3951_and_g_b3952*tdcE*R_g_b0902_and_g_b3114*R1_g_b0902_and_g_b0903_or_g_b0902_and_g_b3114_or_g_b3951_and_g_b3952...': -1.0, 'PDH*aceE*aceF*R_g_b0114_and_g_b0115_and_g_b0116': -1.0}]\n",
      "Strain designs with cost 3.0: [{'PDH*aceE*aceF*R_g_b0114_and_g_b0115_and_g_b0116': -1.0, 'focA*R0_g_b0904_or_g_b2492*focB*R1_g_b0904_or_g_b2492': -1.0}]\n",
      "Strain designs with cost 3.0: [{'lpd': -1.0, 'focA*R0_g_b0904_or_g_b2492*focB*R1_g_b0904_or_g_b2492': -1.0}]\n",
      "Strain designs with cost 3.0: [{'adhE': -1.0, 'frmA*R0_g_b0356_or_g_b1241_or_g_b1478*adhP*R2_g_b0356_or_g_b1241_or_g_b1478': -1.0}]\n",
      "Strain designs with cost 3.0: [{'pgi': -1.0, 'talB*R0_g_b0008_or_g_b2464*talA*R1_g_b0008_or_g_b2464': -1.0}]\n",
      "Strain designs with cost 3.0: [{'pgi': -1.0, 'rpe*R0_g_b3386_or_g_b4301*sgcE*R1_g_b3386_or_g_b4301': -1.0}]\n",
      "Strain designs with cost 3.0: [{'PFK*pfkB*R0_g_b1723_or_g_b3916*pfkA*R1_g_b1723_or_g_b3916': -1.0, 'NADH16*nuoN*nuoM*nuoL*nuoK*nuoJ*nuoI*nuoH*nuoG*nuoF*nuoE*nuoC*nuoB*nuoA...': -1.0}]\n",
      "Strain designs with cost 3.0: [{'CYTBD*EX_o2_e*O2t*cydA*cydB*R_g_b0733_and_g_b0734*R0_g_b0733_and_g_b0734_or_g_b0978_and_g_b0979*cbdA*cbdB*R_g_b0978_and_g_b0979*R1_g_b0733_and_g_b0734_or_g_b0978_and_g_b0979': -1.0, 'pgi': -1.0}]\n",
      "Strain designs with cost 3.0: [{'RPI*rpiA*R0_g_b2914_or_g_b4090*rpiB*R1_g_b2914_or_g_b4090': -1.0, 'pgi': -1.0}]\n",
      "Strain designs with cost 3.0: [{'PFK*pfkB*R0_g_b1723_or_g_b3916*pfkA*R1_g_b1723_or_g_b3916': -1.0, 'pgi': -1.0}]\n",
      "Strain designs with cost 3.0: [{'pntB*pntA*R_g_b1602_and_g_b1603': -1.0, 'tpiA': -1.0, 'sthA*R0_g_b3962_or_g_b1602_and_g_b1603': -1.0}]\n",
      "Strain designs with cost 3.0: [{'RPI*rpiA*R0_g_b2914_or_g_b4090*rpiB*R1_g_b2914_or_g_b4090': -1.0, 'tpiA': -1.0}]\n",
      "Strain designs with cost 3.0: [{'PFL*EX_for_e*pflA*pflB*R_g_b0902_and_g_b0903*R0_g_b0902_and_g_b0903_or_g_b0902_and_g_b3114_or_g_b3951_and_g_b3952*tdcE*R_g_b0902_and_g_b3114*R1_g_b0902_and_g_b0903_or_g_b0902_and_g_b3114_or_g_b3951_and_g_b3952...': -1.0, 'lpd': -1.0}]\n",
      "Strain designs with cost 3.0: [{'tktB*R0_g_b2465_or_g_b2935*tktA*R1_g_b2465_or_g_b2935': -1.0, 'tpiA': -1.0}]\n",
      "Strain designs with cost 3.0: [{'talB*R0_g_b0008_or_g_b2464*talA*R1_g_b0008_or_g_b2464': -1.0, 'tpiA': -1.0}]\n",
      "Strain designs with cost 3.0: [{'CYTBD*EX_o2_e*O2t*cydA*cydB*R_g_b0733_and_g_b0734*R0_g_b0733_and_g_b0734_or_g_b0978_and_g_b0979*cbdA*cbdB*R_g_b0978_and_g_b0979*R1_g_b0733_and_g_b0734_or_g_b0978_and_g_b0979': -1.0, 'tpiA': -1.0}]\n",
      "Strain designs with cost 3.0: [{'PFK*pfkB*R0_g_b1723_or_g_b3916*pfkA*R1_g_b1723_or_g_b3916': -1.0, 'PGL*G6PDH2r*GND*pgl*zwf*gnd': -1.0}]\n",
      "Strain designs with cost 3.0: [{'PFK*pfkB*R0_g_b1723_or_g_b3916*pfkA*R1_g_b1723_or_g_b3916': -1.0, 's0001': -1.0}]\n",
      "Strain designs with cost 3.0: [{'pgi': -1.0, 'pntB*pntA*R_g_b1602_and_g_b1603': -1.0, 'sthA*R0_g_b3962_or_g_b1602_and_g_b1603': -1.0}]\n",
      "Strain designs with cost 3.0: [{'pgi': -1.0, 'tktB*R0_g_b2465_or_g_b2935*tktA*R1_g_b2465_or_g_b2935': -1.0}]\n",
      "Strain designs with cost 3.0: [{'rpe*R0_g_b3386_or_g_b4301*sgcE*R1_g_b3386_or_g_b4301': -1.0, 'tpiA': -1.0}]\n",
      "Strain designs with cost 4.0: [{'PFL*EX_for_e*pflA*pflB*R_g_b0902_and_g_b0903*R0_g_b0902_and_g_b0903_or_g_b0902_and_g_b3114_or_g_b3951_and_g_b3952*tdcE*R_g_b0902_and_g_b3114*R1_g_b0902_and_g_b0903_or_g_b0902_and_g_b3114_or_g_b3951_and_g_b3952...': -1.0, 'PPC*ppc': -1.0, 's0001': -1.0}]\n",
      "Strain designs with cost 4.0: [{'NADH16*nuoN*nuoM*nuoL*nuoK*nuoJ*nuoI*nuoH*nuoG*nuoF*nuoE*nuoC*nuoB*nuoA...': -1.0, 'ydjI*R0_g_b1773_or_g_b2097_or_g_b2925*fbaB*R1_g_b1773_or_g_b2097_or_g_b2925*fbaA*R2_g_b1773_or_g_b2097_or_g_b2925': -1.0}]\n",
      "Strain designs with cost 4.0: [{'s0001': -1.0, 'focA*R0_g_b0904_or_g_b2492*focB*R1_g_b0904_or_g_b2492': -1.0, 'mdh': -1.0}]\n",
      "Strain designs with cost 4.0: [{'s0001': -1.0, 'ydjI*R0_g_b1773_or_g_b2097_or_g_b2925*fbaB*R1_g_b1773_or_g_b2097_or_g_b2925*fbaA*R2_g_b1773_or_g_b2097_or_g_b2925': -1.0}]\n",
      "Strain designs with cost 4.0: [{'FRD7*frdD*frdC*frdB*frdA*R_g_b4151_and_g_b4152_and_g_b4153_and_g_b4154': -1.0, 's0001': -1.0, 'focA*R0_g_b0904_or_g_b2492*focB*R1_g_b0904_or_g_b2492': -1.0}]\n",
      "Strain designs with cost 4.0: [{'PFL*EX_for_e*pflA*pflB*R_g_b0902_and_g_b0903*R0_g_b0902_and_g_b0903_or_g_b0902_and_g_b3114_or_g_b3951_and_g_b3952*tdcE*R_g_b0902_and_g_b3114*R1_g_b0902_and_g_b0903_or_g_b0902_and_g_b3114_or_g_b3951_and_g_b3952...': -1.0, 'FRD7*frdD*frdC*frdB*frdA*R_g_b4151_and_g_b4152_and_g_b4153_and_g_b4154': -1.0, 's0001': -1.0}]\n",
      "Strain designs with cost 4.0: [{'PPC*ppc': -1.0, 'PYK*pykF*R0_g_b1676_or_g_b1854*pykA*R1_g_b1676_or_g_b1854': -1.0, 'NADH16*nuoN*nuoM*nuoL*nuoK*nuoJ*nuoI*nuoH*nuoG*nuoF*nuoE*nuoC*nuoB*nuoA...': -1.0}]\n",
      "Strain designs with cost 4.0: [{'PYK*pykF*R0_g_b1676_or_g_b1854*pykA*R1_g_b1676_or_g_b1854': -1.0, 's0001': -1.0, 'mdh': -1.0}]\n",
      "Strain designs with cost 4.0: [{'PFL*EX_for_e*pflA*pflB*R_g_b0902_and_g_b0903*R0_g_b0902_and_g_b0903_or_g_b0902_and_g_b3114_or_g_b3951_and_g_b3952*tdcE*R_g_b0902_and_g_b3114*R1_g_b0902_and_g_b0903_or_g_b0902_and_g_b3114_or_g_b3951_and_g_b3952...': -1.0, 's0001': -1.0, 'aqpZ*R0_g_b0875_or_g_s0001': -1.0}]\n",
      "Strain designs with cost 4.0: [{'PGL*G6PDH2r*GND*pgl*zwf*gnd': -1.0, 'ydjI*R0_g_b1773_or_g_b2097_or_g_b2925*fbaB*R1_g_b1773_or_g_b2097_or_g_b2925*fbaA*R2_g_b1773_or_g_b2097_or_g_b2925': -1.0}]\n",
      "Strain designs with cost 4.0: [{'PFK*pfkB*R0_g_b1723_or_g_b3916*pfkA*R1_g_b1723_or_g_b3916': -1.0, 'RPI*rpiA*R0_g_b2914_or_g_b4090*rpiB*R1_g_b2914_or_g_b4090': -1.0}]\n",
      "Strain designs with cost 4.0: [{'NADH16*nuoN*nuoM*nuoL*nuoK*nuoJ*nuoI*nuoH*nuoG*nuoF*nuoE*nuoC*nuoB*nuoA...': -1.0, 's0001': -1.0, 'focA*R0_g_b0904_or_g_b2492*focB*R1_g_b0904_or_g_b2492': -1.0}]\n",
      "Strain designs with cost 4.0: [{'pgi': -1.0, 'ydjI*R0_g_b1773_or_g_b2097_or_g_b2925*fbaB*R1_g_b1773_or_g_b2097_or_g_b2925*fbaA*R2_g_b1773_or_g_b2097_or_g_b2925': -1.0}]\n",
      "Strain designs with cost 4.0: [{'PYK*pykF*R0_g_b1676_or_g_b1854*pykA*R1_g_b1676_or_g_b1854': -1.0, 'NADH16*nuoN*nuoM*nuoL*nuoK*nuoJ*nuoI*nuoH*nuoG*nuoF*nuoE*nuoC*nuoB*nuoA...': -1.0, 'mdh': -1.0}]\n",
      "Strain designs with cost 4.0: [{'PFL*EX_for_e*pflA*pflB*R_g_b0902_and_g_b0903*R0_g_b0902_and_g_b0903_or_g_b0902_and_g_b3114_or_g_b3951_and_g_b3952*tdcE*R_g_b0902_and_g_b3114*R1_g_b0902_and_g_b0903_or_g_b0902_and_g_b3114_or_g_b3951_and_g_b3952...': -1.0, 'NADH16*nuoN*nuoM*nuoL*nuoK*nuoJ*nuoI*nuoH*nuoG*nuoF*nuoE*nuoC*nuoB*nuoA...': -1.0, 's0001': -1.0}]\n",
      "Strain designs with cost 4.0: [{'PFK*pfkB*R0_g_b1723_or_g_b3916*pfkA*R1_g_b1723_or_g_b3916': -1.0, 'rpe*R0_g_b3386_or_g_b4301*sgcE*R1_g_b3386_or_g_b4301': -1.0}]\n",
      "Strain designs with cost 4.0: [{'PGL*G6PDH2r*GND*pgl*zwf*gnd': -1.0, 'PPC*ppc': -1.0, 'PYK*pykF*R0_g_b1676_or_g_b1854*pykA*R1_g_b1676_or_g_b1854': -1.0}]\n",
      "Strain designs with cost 4.0: [{'PFK*pfkB*R0_g_b1723_or_g_b3916*pfkA*R1_g_b1723_or_g_b3916': -1.0, 'talB*R0_g_b0008_or_g_b2464*talA*R1_g_b0008_or_g_b2464': -1.0}]\n",
      "Strain designs with cost 4.0: [{'PPC*ppc': -1.0, 's0001': -1.0, 'focA*R0_g_b0904_or_g_b2492*focB*R1_g_b0904_or_g_b2492': -1.0}]\n",
      "Strain designs with cost 4.0: [{'PPC*ppc': -1.0, 'PYK*pykF*R0_g_b1676_or_g_b1854*pykA*R1_g_b1676_or_g_b1854': -1.0, 'pgi': -1.0}]\n",
      "Strain designs with cost 4.0: [{'PFK*pfkB*R0_g_b1723_or_g_b3916*pfkA*R1_g_b1723_or_g_b3916': -1.0, 'tktB*R0_g_b2465_or_g_b2935*tktA*R1_g_b2465_or_g_b2935': -1.0}]\n",
      "Strain designs with cost 4.0: [{'PPC*ppc': -1.0, 'PYK*pykF*R0_g_b1676_or_g_b1854*pykA*R1_g_b1676_or_g_b1854': -1.0, 's0001': -1.0}]\n",
      "Strain designs with cost 4.0: [{'PFL*EX_for_e*pflA*pflB*R_g_b0902_and_g_b0903*R0_g_b0902_and_g_b0903_or_g_b0902_and_g_b3114_or_g_b3951_and_g_b3952*tdcE*R_g_b0902_and_g_b3114*R1_g_b0902_and_g_b0903_or_g_b0902_and_g_b3114_or_g_b3951_and_g_b3952...': -1.0, 's0001': -1.0, 'mdh': -1.0}]\n",
      "Strain designs with cost 4.0: [{'PFK*pfkB*R0_g_b1723_or_g_b3916*pfkA*R1_g_b1723_or_g_b3916': -1.0, 'pntB*pntA*R_g_b1602_and_g_b1603': -1.0, 'sthA*R0_g_b3962_or_g_b1602_and_g_b1603': -1.0}]\n",
      "Strain designs with cost 4.0: [{'PFK*pfkB*R0_g_b1723_or_g_b3916*pfkA*R1_g_b1723_or_g_b3916': -1.0, 'CYTBD*EX_o2_e*O2t*cydA*cydB*R_g_b0733_and_g_b0734*R0_g_b0733_and_g_b0734_or_g_b0978_and_g_b0979*cbdA*cbdB*R_g_b0978_and_g_b0979*R1_g_b0733_and_g_b0734_or_g_b0978_and_g_b0979': -1.0}]\n",
      "Strain designs with cost 4.0: [{'s0001': -1.0, 'focA*R0_g_b0904_or_g_b2492*focB*R1_g_b0904_or_g_b2492': -1.0, 'aqpZ*R0_g_b0875_or_g_s0001': -1.0}]\n",
      "Strain designs with cost 5.0: [{'PPC*ppc': -1.0, 'PYK*pykF*R0_g_b1676_or_g_b1854*pykA*R1_g_b1676_or_g_b1854': -1.0, 'tktB*R0_g_b2465_or_g_b2935*tktA*R1_g_b2465_or_g_b2935': -1.0}]\n",
      "Strain designs with cost 5.0: [{'tktB*R0_g_b2465_or_g_b2935*tktA*R1_g_b2465_or_g_b2935': -1.0, 'ydjI*R0_g_b1773_or_g_b2097_or_g_b2925*fbaB*R1_g_b1773_or_g_b2097_or_g_b2925*fbaA*R2_g_b1773_or_g_b2097_or_g_b2925': -1.0}]\n",
      "Strain designs with cost 5.0: [{'rpe*R0_g_b3386_or_g_b4301*sgcE*R1_g_b3386_or_g_b4301': -1.0, 'ydjI*R0_g_b1773_or_g_b2097_or_g_b2925*fbaB*R1_g_b1773_or_g_b2097_or_g_b2925*fbaA*R2_g_b1773_or_g_b2097_or_g_b2925': -1.0}]\n",
      "Strain designs with cost 5.0: [{'PPC*ppc': -1.0, 'PYK*pykF*R0_g_b1676_or_g_b1854*pykA*R1_g_b1676_or_g_b1854': -1.0, 'talB*R0_g_b0008_or_g_b2464*talA*R1_g_b0008_or_g_b2464': -1.0}]\n",
      "Strain designs with cost 5.0: [{'pntB*pntA*R_g_b1602_and_g_b1603': -1.0, 'ydjI*R0_g_b1773_or_g_b2097_or_g_b2925*fbaB*R1_g_b1773_or_g_b2097_or_g_b2925*fbaA*R2_g_b1773_or_g_b2097_or_g_b2925': -1.0, 'sthA*R0_g_b3962_or_g_b1602_and_g_b1603': -1.0}]\n",
      "Strain designs with cost 5.0: [{'PPC*ppc': -1.0, 'PYK*pykF*R0_g_b1676_or_g_b1854*pykA*R1_g_b1676_or_g_b1854': -1.0, 'pntB*pntA*R_g_b1602_and_g_b1603': -1.0, 'sthA*R0_g_b3962_or_g_b1602_and_g_b1603': -1.0}]\n",
      "Strain designs with cost 5.0: [{'CYTBD*EX_o2_e*O2t*cydA*cydB*R_g_b0733_and_g_b0734*R0_g_b0733_and_g_b0734_or_g_b0978_and_g_b0979*cbdA*cbdB*R_g_b0978_and_g_b0979*R1_g_b0733_and_g_b0734_or_g_b0978_and_g_b0979': -1.0, 'ydjI*R0_g_b1773_or_g_b2097_or_g_b2925*fbaB*R1_g_b1773_or_g_b2097_or_g_b2925*fbaA*R2_g_b1773_or_g_b2097_or_g_b2925': -1.0}]\n",
      "Strain designs with cost 5.0: [{'PYK*pykF*R0_g_b1676_or_g_b1854*pykA*R1_g_b1676_or_g_b1854': -1.0, 'CYTBD*EX_o2_e*O2t*cydA*cydB*R_g_b0733_and_g_b0734*R0_g_b0733_and_g_b0734_or_g_b0978_and_g_b0979*cbdA*cbdB*R_g_b0978_and_g_b0979*R1_g_b0733_and_g_b0734_or_g_b0978_and_g_b0979': -1.0, 'mdh': -1.0}]\n",
      "Strain designs with cost 5.0: [{'PYK*pykF*R0_g_b1676_or_g_b1854*pykA*R1_g_b1676_or_g_b1854': -1.0, 'ME1*maeA': -1.0, 'ME2*maeB': -1.0, 'NADH16*nuoN*nuoM*nuoL*nuoK*nuoJ*nuoI*nuoH*nuoG*nuoF*nuoE*nuoC*nuoB*nuoA...': -1.0}]\n",
      "Strain designs with cost 5.0: [{'PPC*ppc': -1.0, 'PYK*pykF*R0_g_b1676_or_g_b1854*pykA*R1_g_b1676_or_g_b1854': -1.0, 'RPI*rpiA*R0_g_b2914_or_g_b4090*rpiB*R1_g_b2914_or_g_b4090': -1.0}]\n",
      "Strain designs with cost 5.0: [{'PGL*G6PDH2r*GND*pgl*zwf*gnd': -1.0, 'PYK*pykF*R0_g_b1676_or_g_b1854*pykA*R1_g_b1676_or_g_b1854': -1.0, 'SUCDi*sdhC*sdhD*sdhA*sdhB*R_g_b0721_and_g_b0722_and_g_b0723_and_g_b0724': -1.0, 'mdh': -1.0}]\n",
      "Strain designs with cost 5.0: [{'ACONTa*ACONTb*CS*gltA*acnB*R0_g_b0118_or_g_b1276*acnA*R1_g_b0118_or_g_b1276': -1.0, 'PYK*pykF*R0_g_b1676_or_g_b1854*pykA*R1_g_b1676_or_g_b1854': -1.0, 'pgi': -1.0, 'mdh': -1.0}]\n",
      "Strain designs with cost 5.0: [{'PPC*ppc': -1.0, 'PYK*pykF*R0_g_b1676_or_g_b1854*pykA*R1_g_b1676_or_g_b1854': -1.0, 'CYTBD*EX_o2_e*O2t*cydA*cydB*R_g_b0733_and_g_b0734*R0_g_b0733_and_g_b0734_or_g_b0978_and_g_b0979*cbdA*cbdB*R_g_b0978_and_g_b0979*R1_g_b0733_and_g_b0734_or_g_b0978_and_g_b0979': -1.0}]\n",
      "Strain designs with cost 5.0: [{'RPI*rpiA*R0_g_b2914_or_g_b4090*rpiB*R1_g_b2914_or_g_b4090': -1.0, 'ydjI*R0_g_b1773_or_g_b2097_or_g_b2925*fbaB*R1_g_b1773_or_g_b2097_or_g_b2925*fbaA*R2_g_b1773_or_g_b2097_or_g_b2925': -1.0}]\n",
      "Strain designs with cost 5.0: [{'PGL*G6PDH2r*GND*pgl*zwf*gnd': -1.0, 'ACONTa*ACONTb*CS*gltA*acnB*R0_g_b0118_or_g_b1276*acnA*R1_g_b0118_or_g_b1276': -1.0, 'PYK*pykF*R0_g_b1676_or_g_b1854*pykA*R1_g_b1676_or_g_b1854': -1.0, 'mdh': -1.0}]\n",
      "Strain designs with cost 5.0: [{'talB*R0_g_b0008_or_g_b2464*talA*R1_g_b0008_or_g_b2464': -1.0, 'ydjI*R0_g_b1773_or_g_b2097_or_g_b2925*fbaB*R1_g_b1773_or_g_b2097_or_g_b2925*fbaA*R2_g_b1773_or_g_b2097_or_g_b2925': -1.0}]\n",
      "Strain designs with cost 5.0: [{'PPC*ppc': -1.0, 'PYK*pykF*R0_g_b1676_or_g_b1854*pykA*R1_g_b1676_or_g_b1854': -1.0, 'rpe*R0_g_b3386_or_g_b4301*sgcE*R1_g_b3386_or_g_b4301': -1.0}]\n",
      "Finished. \n",
      "315 solutions found.\n"
     ]
    }
   ],
   "source": [
    "%autoreload\n",
    "with open('/scratch/Python/CNApy/cnapy/sd_computation.json', 'r') as fp:\n",
    "    sd_setup = json.load(fp)\n",
    "    \n",
    "modules = sd_setup.pop('modules')\n",
    "rmcs, gmcs = compute_strain_designs(model, modules, **sd_setup)"
   ]
  },
  {
   "cell_type": "code",
   "execution_count": 2,
   "metadata": {},
   "outputs": [
    {
     "name": "stdout",
     "output_type": "stream",
     "text": [
      "sdvds\n",
      "Traceback (most recent call last):\n",
      "  File \"/tmp/ipykernel_21141/2233219526.py\", line 3, in <module>\n",
      "    raise Exception('sdvds')\n",
      "Exception: sdvds\n",
      "\n"
     ]
    }
   ],
   "source": [
    "import traceback\n",
    "try:\n",
    "    raise Exception('sdvds')\n",
    "except Exception as e:\n",
    "    print(str(e))\n",
    "    tb_str = ''.join(traceback.format_exception(None, e, e.__traceback__))\n",
    "print(tb_str)"
   ]
  }
 ],
 "metadata": {
  "interpreter": {
   "hash": "e8cf2acc5f473dd434bf7ed82be15898117f329f308a42c707e4168ce2116c68"
  },
  "kernelspec": {
   "display_name": "Python 3.7.12 ('cnapy-dev')",
   "language": "python",
   "name": "python3"
  },
  "language_info": {
   "codemirror_mode": {
    "name": "ipython",
    "version": 3
   },
   "file_extension": ".py",
   "mimetype": "text/x-python",
   "name": "python",
   "nbconvert_exporter": "python",
   "pygments_lexer": "ipython3",
   "version": "3.7.12"
  },
  "orig_nbformat": 4
 },
 "nbformat": 4,
 "nbformat_minor": 2
}
