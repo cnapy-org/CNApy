{
 "cells": [
  {
   "cell_type": "code",
   "execution_count": 3,
   "metadata": {},
   "outputs": [
    {
     "name": "stdout",
     "output_type": "stream",
     "text": [
      "The autoreload extension is already loaded. To reload it, use:\n",
      "  %reload_ext autoreload\n",
      "Set parameter Username\n",
      "Academic license - for non-commercial use only - expires 2022-05-16\n"
     ]
    }
   ],
   "source": [
    "%load_ext autoreload\n",
    "import sys\n",
    "from qtpy.QtWidgets import QApplication,QWidget\n",
    "from qtpy.QtCore import Signal, Qt\n",
    "from cnapy.gui_elements.mcs_dialog import MCSDialog\n",
    "from cnapy.gui_elements.strain_design_dialog import SDDialog,\\\n",
    "                            StrainDesignComputationDialog\n",
    "from cnapy.appdata import AppData\n",
    "from cnapy.gui_elements.main_window import MainWindow\n",
    "from cnapy.gui_elements.central_widget import CentralWidget\n",
    "from cobra.io import read_sbml_model\n",
    "from os.path import dirname, abspath\n",
    "from importlib import reload\n",
    "from mcs import compute_strain_designs\n",
    "import json\n",
    "\n",
    "class CentralWidget(QWidget):\n",
    "    def __init__(self, appdata):\n",
    "        QWidget.__init__(self)\n",
    "        self.appdata = appdata\n",
    "    broadcastReactionID = Signal(str)\n",
    "    \n",
    "# model = read_sbml_model(\"/scratch/Python/mcs/examples/e_coli_core.sbml\")\n",
    "model = read_sbml_model(\"C:/Users/Philipp/Documents/Python/mcs/examples/e_coli_core.sbml\")\n",
    "# Handle high resolution displays:\n",
    "QApplication.setAttribute(Qt.AA_EnableHighDpiScaling, True)\n",
    "QApplication.setAttribute(Qt.AA_UseHighDpiPixmaps, True)\n",
    "# Create the Qt Application\n",
    "app = QApplication(sys.argv)\n",
    "app.setStyle(\"fusion\")\n",
    "ad = AppData()\n",
    "ad.project.cobra_py_model = model\n",
    "# ad.window = MainWindow(ad)\n",
    "cw = CentralWidget(ad)"
   ]
  },
  {
   "cell_type": "code",
   "execution_count": 2,
   "metadata": {},
   "outputs": [],
   "source": [
    "%autoreload\n",
    "with open('/home/schneiderp/CNApy-projects/example.sd', 'r') as fp:\n",
    "    sd_setup = fp.read()\n",
    "sd_dialog = StrainDesignComputationDialog(ad, sd_setup)\n",
    "sd_dialog.exec()\n",
    "sd_dialog.deleteLater()\n"
   ]
  },
  {
   "cell_type": "code",
   "execution_count": null,
   "metadata": {},
   "outputs": [],
   "source": [
    "%autoreload\n",
    "# Create and show the form\n",
    "form = SDDialog(ad,cw)\n",
    "form.show()\n",
    "# form1 = MCSDialog(ad,cw)\n",
    "# form1.show()\n",
    "print('done')\n",
    "# Run thEe main Qt loop\n",
    "try:\n",
    "    sys.exit(app.exec())\n",
    "except:\n",
    "    pass"
   ]
  },
  {
   "cell_type": "code",
   "execution_count": 6,
   "metadata": {},
   "outputs": [
    {
     "name": "stdout",
     "output_type": "stream",
     "text": [
      "Preparing strain design computation.\n",
      "  Using cplex for solving LPs during preprocessing.\n",
      "  FVA to identify blocked reactions and irreversibilities.\n",
      "  FVA(s) to identify essential reactions.\n",
      "Preprocessing GPR rules (137 genes, 69 gpr rules).\n",
      "  Simplifyied to 35 genes and 21 gpr rules.\n",
      "  Extending metabolic network with gpr associations.\n",
      "Compressing Network (159 reactions).\n",
      "  Removing blocked reactions.\n",
      "  Translating stoichiometric coefficients to rationals.\n",
      "  Removing conservation relations.\n",
      "  Compression 1: Applying compression from EFM-tool module.\n",
      "  Reduced to 88 reactions.\n",
      "  Compression 2: Lumping parallel reactions.\n",
      "  Reduced to 78 reactions.\n",
      "  Compression 3: Applying compression from EFM-tool module.\n",
      "  Reduced to 70 reactions.\n",
      "  Compression 4: Lumping parallel reactions.\n",
      "  Reduced to 69 reactions.\n",
      "  Compression 5: Applying compression from EFM-tool module.\n",
      "  Reduced to 68 reactions.\n",
      "  Compression 6: Lumping parallel reactions.\n",
      "  Last step could not reduce size further (68 reactions).\n",
      "  Network compression completed. (5 compression iterations)\n",
      "  Translating stoichiometric coefficients back to float.\n",
      "Finished preprocessing:\n",
      "  Model size: 68 reactions, 40 metabolites\n",
      "  24 targetable reactions\n",
      "Constructing strain design MILP for solver: cplex.\n",
      "Bounding MILP.\n",
      "Finding (also non-optimal) strain designs ...\n",
      "Searching in full search space.\n",
      "Minimizing number of interventions in subspace with 8 possible targets.\n",
      "Strain design with cost 4.93: {'PIt2r*BIOMASS_Ecoli_core_w_GAM*EX_pi_e*pitB*R0_g_b2987_or_g_b3493*pitA*R1_g_b2987_or_g_b3493': 1, 'ACONTa*ACONTb*CS*gltA': 1, 'CYTBD*EX_o2_e*O2t': 1, 'ACALD*mhpF*R0_g_b0351_or_g_b1241*adhE*R1_g_b0351_or_g_b1241': 1, 'RPI*rpiA*R0_g_b2914_or_g_b4090*rpiB*R1_g_b2914_or_g_b4090': 1, 'atpA': -1, 'eno': 1, 'tktB*R0_g_b2465_or_g_b2935*tktA*R1_g_b2465_or_g_b2935': 1}\n",
      "Searching in full search space.\n",
      "Minimizing number of interventions in subspace with 8 possible targets.\n",
      "Strain design with cost 4.16: {'PIt2r*BIOMASS_Ecoli_core_w_GAM*EX_pi_e*pitB*R0_g_b2987_or_g_b3493*pitA*R1_g_b2987_or_g_b3493': 1, 'PPC*ppc': 1, 'ACONTa*ACONTb*CS*gltA': 1, 'ACALD*mhpF*R0_g_b0351_or_g_b1241*adhE*R1_g_b0351_or_g_b1241': 1, 'RPI*rpiA*R0_g_b2914_or_g_b4090*rpiB*R1_g_b2914_or_g_b4090': 1, 'eno': 1, 'tktB*R0_g_b2465_or_g_b2935*tktA*R1_g_b2465_or_g_b2935': 1}\n",
      "Searching in full search space.\n",
      "Finished. \n",
      "32 solutions found.\n",
      "32\n"
     ]
    }
   ],
   "source": [
    "%autoreload\n",
    "# with open('/scratch/Python/CNApy/cnapy/sd_computation.json', 'r') as fp:\n",
    "# with open('/home/schneiderp/CNApy-projects/02_mcs_test_e_coli_core.sd', 'r') as fp:\n",
    "with open('C:/Users/Philipp/Documents/Python/mcs/examples/02_mcs_test_e_coli_core.sd', 'r') as fp:\n",
    "    sd_setup = json.load(fp)\n",
    "    \n",
    "sd_solutions = compute_strain_designs(model, **sd_setup)\n",
    "print(len(sd_solutions.get_gsd()))"
   ]
  },
  {
   "cell_type": "code",
   "execution_count": null,
   "metadata": {},
   "outputs": [],
   "source": [
    "import traceback\n",
    "try:\n",
    "    raise Exception('sdvds')\n",
    "except Exception as e:\n",
    "    print(str(e))\n",
    "    tb_str = ''.join(traceback.format_exception(None, e, e.__traceback__))\n",
    "print(tb_str)"
   ]
  }
 ],
 "metadata": {
  "interpreter": {
   "hash": "e8cf2acc5f473dd434bf7ed82be15898117f329f308a42c707e4168ce2116c68"
  },
  "kernelspec": {
   "display_name": "Python 3.7.12 ('cnapy-dev')",
   "language": "python",
   "name": "python3"
  },
  "language_info": {
   "codemirror_mode": {
    "name": "ipython",
    "version": 3
   },
   "file_extension": ".py",
   "mimetype": "text/x-python",
   "name": "python",
   "nbconvert_exporter": "python",
   "pygments_lexer": "ipython3",
   "version": "3.9.7"
  },
  "orig_nbformat": 4
 },
 "nbformat": 4,
 "nbformat_minor": 2
}
