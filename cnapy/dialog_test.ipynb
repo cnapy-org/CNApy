{
 "cells": [
  {
   "cell_type": "code",
   "execution_count": 1,
   "metadata": {},
   "outputs": [
    {
     "name": "stdout",
     "output_type": "stream",
     "text": [
      "The Zen of Python, by Tim Peters\n",
      "\n",
      "Beautiful is better than ugly.\n",
      "Explicit is better than implicit.\n",
      "Simple is better than complex.\n",
      "Complex is better than complicated.\n",
      "Flat is better than nested.\n",
      "Sparse is better than dense.\n",
      "Readability counts.\n",
      "Special cases aren't special enough to break the rules.\n",
      "Although practicality beats purity.\n",
      "Errors should never pass silently.\n",
      "Unless explicitly silenced.\n",
      "In the face of ambiguity, refuse the temptation to guess.\n",
      "There should be one-- and preferably only one --obvious way to do it.\n",
      "Although that way may not be obvious at first unless you're Dutch.\n",
      "Now is better than never.\n",
      "Although never is often better than *right* now.\n",
      "If the implementation is hard to explain, it's a bad idea.\n",
      "If the implementation is easy to explain, it may be a good idea.\n",
      "Namespaces are one honking great idea -- let's do more of those!\n",
      "Set parameter Username\n",
      "Academic license - for non-commercial use only - expires 2022-05-16\n"
     ]
    }
   ],
   "source": [
    "%load_ext autoreload\n",
    "import sys\n",
    "from qtpy.QtWidgets import QApplication,QWidget\n",
    "from qtpy.QtCore import Signal\n",
    "from cnapy.gui_elements.mcs_dialog import MCSDialog\n",
    "from cnapy.gui_elements.strain_design_dialog import SDDialog\n",
    "from cnapy.appdata import AppData\n",
    "from cnapy.gui_elements.central_widget import CentralWidget\n",
    "from cobra.io import read_sbml_model\n",
    "from os.path import dirname, abspath\n",
    "from importlib import reload\n",
    "\n",
    "class CentralWidget(QWidget):\n",
    "    def __init__(self, appdata):\n",
    "        QWidget.__init__(self)\n",
    "        self.appdata = appdata\n",
    "    broadcastReactionID = Signal(str)\n",
    "    \n",
    "# model = read_sbml_model(\"/scratch/Python/mcs/examples/e_coli_core.sbml\")\n",
    "model = read_sbml_model(\"C:/Users/Philipp/Documents/Python/mcs/examples/e_coli_core.sbml\")\n",
    "# reload(cnapy)\n",
    "# Create the Qt Application\n",
    "app = QApplication(sys.argv)\n",
    "ad = AppData()\n",
    "ad.project.cobra_py_model = model\n",
    "cw = CentralWidget(ad)"
   ]
  },
  {
   "cell_type": "code",
   "execution_count": 18,
   "metadata": {},
   "outputs": [
    {
     "name": "stdout",
     "output_type": "stream",
     "text": [
      "hi\n",
      "done\n"
     ]
    }
   ],
   "source": [
    "%autoreload\n",
    "# Create and show the form\n",
    "form = SDDialog(ad,cw)\n",
    "form.show()\n",
    "# form1 = MCSDialog(ad,cw)\n",
    "# form1.show()\n",
    "print('done')\n",
    "# Run the main Qt loop\n",
    "try:\n",
    "    sys.exit(app.exec())\n",
    "except:\n",
    "    pass"
   ]
  }
 ],
 "metadata": {
  "interpreter": {
   "hash": "e8cf2acc5f473dd434bf7ed82be15898117f329f308a42c707e4168ce2116c68"
  },
  "kernelspec": {
   "display_name": "Python 3.7.12 ('cnapy-dev')",
   "language": "python",
   "name": "python3"
  },
  "language_info": {
   "codemirror_mode": {
    "name": "ipython",
    "version": 3
   },
   "file_extension": ".py",
   "mimetype": "text/x-python",
   "name": "python",
   "nbconvert_exporter": "python",
   "pygments_lexer": "ipython3",
   "version": "3.9.7"
  },
  "orig_nbformat": 4
 },
 "nbformat": 4,
 "nbformat_minor": 2
}
