{
 "cells": [
  {
   "cell_type": "code",
   "execution_count": 1,
   "metadata": {},
   "outputs": [
    {
     "name": "stdout",
     "output_type": "stream",
     "text": [
      "Set parameter Username\n",
      "Academic license - for non-commercial use only - expires 2023-03-02\n"
     ]
    },
    {
     "name": "stderr",
     "output_type": "stream",
     "text": [
      "openjdk version \"1.8.0_312\"\n",
      "OpenJDK Runtime Environment (Zulu 8.58.0.13-CA-linux64) (build 1.8.0_312-b07)\n",
      "OpenJDK 64-Bit Server VM (Zulu 8.58.0.13-CA-linux64) (build 25.312-b07, mixed mode)\n",
      "QApplication: invalid style override passed, ignoring it.\n",
      "    Available styles: Windows, Fusion\n"
     ]
    }
   ],
   "source": [
    "%load_ext autoreload\n",
    "import sys\n",
    "from qtpy.QtWidgets import QApplication,QWidget\n",
    "from qtpy.QtCore import Signal, Qt\n",
    "from cnapy.gui_elements.mcs_dialog import MCSDialog\n",
    "from cnapy.gui_elements.strain_design_dialog import SDDialog,\\\n",
    "                            StrainDesignComputationDialog\n",
    "from cnapy.appdata import AppData\n",
    "from cnapy.gui_elements.main_window import MainWindow\n",
    "from cnapy.gui_elements.central_widget import CentralWidget\n",
    "from cobra.io import read_sbml_model\n",
    "from os.path import dirname, abspath\n",
    "from importlib import reload\n",
    "\n",
    "class CentralWidget(QWidget):\n",
    "    def __init__(self, appdata):\n",
    "        QWidget.__init__(self)\n",
    "        self.appdata = appdata\n",
    "    broadcastReactionID = Signal(str)\n",
    "    \n",
    "model = read_sbml_model(\"/scratch/Python/mcs/examples/e_coli_core.sbml\")\n",
    "# model = read_sbml_model(\"C:/Users/Philipp/Documents/Python/mcs/examples/e_coli_core.sbml\")\n",
    "# Handle high resolution displays:\n",
    "QApplication.setAttribute(Qt.AA_EnableHighDpiScaling, True)\n",
    "QApplication.setAttribute(Qt.AA_UseHighDpiPixmaps, True)\n",
    "# Create the Qt Application\n",
    "app = QApplication(sys.argv)\n",
    "app.setStyle(\"fusion\")\n",
    "ad = AppData()\n",
    "ad.project.cobra_py_model = model\n",
    "# ad.window = MainWindow(ad)\n",
    "cw = CentralWidget(ad)"
   ]
  },
  {
   "cell_type": "code",
   "execution_count": null,
   "metadata": {},
   "outputs": [],
   "source": [
    "%autoreload\n",
    "# Create and show the form\n",
    "form = SDDialog(ad,cw)\n",
    "form.show()\n",
    "# form1 = MCSDialog(ad,cw)\n",
    "# form1.show()\n",
    "print('done')\n",
    "# Run thEe main Qt loop\n",
    "try:\n",
    "    sys.exit(app.exec())\n",
    "except:\n",
    "    pass"
   ]
  },
  {
   "cell_type": "code",
   "execution_count": 2,
   "metadata": {},
   "outputs": [
    {
     "data": {
      "text/plain": [
       "0"
      ]
     },
     "execution_count": 2,
     "metadata": {},
     "output_type": "execute_result"
    }
   ],
   "source": [
    "%autoreload\n",
    "sd_dialog = StrainDesignComputationDialog(ad, \"{}\")\n",
    "sd_dialog.exec()"
   ]
  }
 ],
 "metadata": {
  "interpreter": {
   "hash": "e8cf2acc5f473dd434bf7ed82be15898117f329f308a42c707e4168ce2116c68"
  },
  "kernelspec": {
   "display_name": "Python 3.7.12 ('cnapy-dev')",
   "language": "python",
   "name": "python3"
  },
  "language_info": {
   "codemirror_mode": {
    "name": "ipython",
    "version": 3
   },
   "file_extension": ".py",
   "mimetype": "text/x-python",
   "name": "python",
   "nbconvert_exporter": "python",
   "pygments_lexer": "ipython3",
   "version": "3.7.12"
  },
  "orig_nbformat": 4
 },
 "nbformat": 4,
 "nbformat_minor": 2
}
