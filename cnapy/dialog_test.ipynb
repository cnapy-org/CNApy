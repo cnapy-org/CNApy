{
 "cells": [
  {
   "cell_type": "code",
   "execution_count": 2,
   "metadata": {},
   "outputs": [
    {
     "name": "stdout",
     "output_type": "stream",
     "text": [
      "The Zen of Python, by Tim Peters\n",
      "\n",
      "Beautiful is better than ugly.\n",
      "Explicit is better than implicit.\n",
      "Simple is better than complex.\n",
      "Complex is better than complicated.\n",
      "Flat is better than nested.\n",
      "Sparse is better than dense.\n",
      "Readability counts.\n",
      "Special cases aren't special enough to break the rules.\n",
      "Although practicality beats purity.\n",
      "Errors should never pass silently.\n",
      "Unless explicitly silenced.\n",
      "In the face of ambiguity, refuse the temptation to guess.\n",
      "There should be one-- and preferably only one --obvious way to do it.\n",
      "Although that way may not be obvious at first unless you're Dutch.\n",
      "Now is better than never.\n",
      "Although never is often better than *right* now.\n",
      "If the implementation is hard to explain, it's a bad idea.\n",
      "If the implementation is easy to explain, it may be a good idea.\n",
      "Namespaces are one honking great idea -- let's do more of those!\n",
      "Set parameter Username\n",
      "Academic license - for non-commercial use only - expires 2022-05-16\n"
     ]
    }
   ],
   "source": [
    "%load_ext autoreload\n",
    "import sys\n",
    "from qtpy.QtWidgets import QApplication,QWidget\n",
    "from qtpy.QtCore import Signal, Qt\n",
    "from cnapy.gui_elements.mcs_dialog import MCSDialog\n",
    "from cnapy.gui_elements.strain_design_dialog import SDDialog\n",
    "from cnapy.appdata import AppData\n",
    "from cnapy.gui_elements.central_widget import CentralWidget\n",
    "from cobra.io import read_sbml_model\n",
    "from os.path import dirname, abspath\n",
    "from importlib import reload\n",
    "\n",
    "class CentralWidget(QWidget):\n",
    "    def __init__(self, appdata):\n",
    "        QWidget.__init__(self)\n",
    "        self.appdata = appdata\n",
    "    broadcastReactionID = Signal(str)\n",
    "    \n",
    "# model = read_sbml_model(\"/scratch/Python/mcs/examples/e_coli_core.sbml\")\n",
    "model = read_sbml_model(\"C:/Users/Philipp/Documents/Python/mcs/examples/e_coli_core.sbml\")\n",
    "# Handle high resolution displays:\n",
    "QApplication.setAttribute(Qt.AA_EnableHighDpiScaling, True)\n",
    "QApplication.setAttribute(Qt.AA_UseHighDpiPixmaps, True)\n",
    "# Create the Qt Application\n",
    "app = QApplication(sys.argv)\n",
    "app.setStyle(\"fusion\")\n",
    "ad = AppData()\n",
    "ad.project.cobra_py_model = model\n",
    "cw = CentralWidget(ad)"
   ]
  },
  {
   "cell_type": "code",
   "execution_count": 6,
   "metadata": {},
   "outputs": [
    {
     "name": "stdout",
     "output_type": "stream",
     "text": [
      "TO DO: Set KO and KI box to HIDDEN initially..\n",
      "done\n"
     ]
    },
    {
     "ename": "KeyError",
     "evalue": "'advanced'",
     "output_type": "error",
     "traceback": [
      "\u001b[1;31m---------------------------------------------------------------------------\u001b[0m",
      "\u001b[1;31mKeyError\u001b[0m                                  Traceback (most recent call last)",
      "File \u001b[1;32mc:\\users\\philipp\\documents\\python\\cnapy\\cnapy\\gui_elements\\strain_design_dialog.py:977\u001b[0m, in \u001b[0;36mSDDialog.compute\u001b[1;34m(self)\u001b[0m\n\u001b[0;32m    <a href='file:///c%3A/users/philipp/documents/python/cnapy/cnapy/gui_elements/strain_design_dialog.py?line=974'>975</a>\u001b[0m \u001b[39mif\u001b[39;00m \u001b[39mnot\u001b[39;00m valid:\n\u001b[0;32m    <a href='file:///c%3A/users/philipp/documents/python/cnapy/cnapy/gui_elements/strain_design_dialog.py?line=975'>976</a>\u001b[0m     \u001b[39mreturn\u001b[39;00m\n\u001b[1;32m--> <a href='file:///c%3A/users/philipp/documents/python/cnapy/cnapy/gui_elements/strain_design_dialog.py?line=976'>977</a>\u001b[0m sd_setup \u001b[39m=\u001b[39m \u001b[39mself\u001b[39;49m\u001b[39m.\u001b[39;49mparse_inputs()\n",
      "File \u001b[1;32mc:\\users\\philipp\\documents\\python\\cnapy\\cnapy\\gui_elements\\strain_design_dialog.py:948\u001b[0m, in \u001b[0;36mSDDialog.parse_inputs\u001b[1;34m(self)\u001b[0m\n\u001b[0;32m    <a href='file:///c%3A/users/philipp/documents/python/cnapy/cnapy/gui_elements/strain_design_dialog.py?line=943'>944</a>\u001b[0m sd_setup\u001b[39m.\u001b[39mupdate({\u001b[39m'\u001b[39m\u001b[39msolver\u001b[39m\u001b[39m'\u001b[39m : \\\n\u001b[0;32m    <a href='file:///c%3A/users/philipp/documents/python/cnapy/cnapy/gui_elements/strain_design_dialog.py?line=944'>945</a>\u001b[0m     \u001b[39mself\u001b[39m\u001b[39m.\u001b[39msolver_buttons[\u001b[39m'\u001b[39m\u001b[39mgroup\u001b[39m\u001b[39m'\u001b[39m]\u001b[39m.\u001b[39mcheckedButton()\u001b[39m.\u001b[39mproperty(\u001b[39m'\u001b[39m\u001b[39mname\u001b[39m\u001b[39m'\u001b[39m)})\n\u001b[0;32m    <a href='file:///c%3A/users/philipp/documents/python/cnapy/cnapy/gui_elements/strain_design_dialog.py?line=945'>946</a>\u001b[0m sd_setup\u001b[39m.\u001b[39mupdate({\u001b[39m'\u001b[39m\u001b[39msearch_type\u001b[39m\u001b[39m'\u001b[39m : \\\n\u001b[0;32m    <a href='file:///c%3A/users/philipp/documents/python/cnapy/cnapy/gui_elements/strain_design_dialog.py?line=946'>947</a>\u001b[0m     \u001b[39mself\u001b[39m\u001b[39m.\u001b[39msolution_buttons[\u001b[39m\"\u001b[39m\u001b[39mgroup\u001b[39m\u001b[39m\"\u001b[39m]\u001b[39m.\u001b[39mcheckedButton()\u001b[39m.\u001b[39mproperty(\u001b[39m'\u001b[39m\u001b[39mname\u001b[39m\u001b[39m'\u001b[39m)})\n\u001b[1;32m--> <a href='file:///c%3A/users/philipp/documents/python/cnapy/cnapy/gui_elements/strain_design_dialog.py?line=947'>948</a>\u001b[0m \u001b[39mif\u001b[39;00m sd_setup[\u001b[39m'\u001b[39;49m\u001b[39madvanced\u001b[39;49m\u001b[39m'\u001b[39;49m]:\n\u001b[0;32m    <a href='file:///c%3A/users/philipp/documents/python/cnapy/cnapy/gui_elements/strain_design_dialog.py?line=948'>949</a>\u001b[0m     koCost \u001b[39m=\u001b[39m {}\n\u001b[0;32m    <a href='file:///c%3A/users/philipp/documents/python/cnapy/cnapy/gui_elements/strain_design_dialog.py?line=949'>950</a>\u001b[0m     kiCost \u001b[39m=\u001b[39m {}\n",
      "\u001b[1;31mKeyError\u001b[0m: 'advanced'"
     ]
    },
    {
     "ename": "KeyError",
     "evalue": "'adhE'",
     "output_type": "error",
     "traceback": [
      "\u001b[1;31m---------------------------------------------------------------------------\u001b[0m",
      "\u001b[1;31mKeyError\u001b[0m                                  Traceback (most recent call last)",
      "File \u001b[1;32mc:\\users\\philipp\\documents\\python\\cnapy\\cnapy\\gui_elements\\strain_design_dialog.py:977\u001b[0m, in \u001b[0;36mSDDialog.compute\u001b[1;34m(self)\u001b[0m\n\u001b[0;32m    <a href='file:///c%3A/users/philipp/documents/python/cnapy/cnapy/gui_elements/strain_design_dialog.py?line=974'>975</a>\u001b[0m \u001b[39mif\u001b[39;00m \u001b[39mnot\u001b[39;00m valid:\n\u001b[0;32m    <a href='file:///c%3A/users/philipp/documents/python/cnapy/cnapy/gui_elements/strain_design_dialog.py?line=975'>976</a>\u001b[0m     \u001b[39mreturn\u001b[39;00m\n\u001b[1;32m--> <a href='file:///c%3A/users/philipp/documents/python/cnapy/cnapy/gui_elements/strain_design_dialog.py?line=976'>977</a>\u001b[0m sd_setup \u001b[39m=\u001b[39m \u001b[39mself\u001b[39;49m\u001b[39m.\u001b[39;49mparse_inputs()\n",
      "File \u001b[1;32mc:\\users\\philipp\\documents\\python\\cnapy\\cnapy\\gui_elements\\strain_design_dialog.py:963\u001b[0m, in \u001b[0;36mSDDialog.parse_inputs\u001b[1;34m(self)\u001b[0m\n\u001b[0;32m    <a href='file:///c%3A/users/philipp/documents/python/cnapy/cnapy/gui_elements/strain_design_dialog.py?line=960'>961</a>\u001b[0m gkiCost \u001b[39m=\u001b[39m {}\n\u001b[0;32m    <a href='file:///c%3A/users/philipp/documents/python/cnapy/cnapy/gui_elements/strain_design_dialog.py?line=961'>962</a>\u001b[0m \u001b[39mfor\u001b[39;00m g \u001b[39min\u001b[39;00m \u001b[39mself\u001b[39m\u001b[39m.\u001b[39mgene_names:\n\u001b[1;32m--> <a href='file:///c%3A/users/philipp/documents/python/cnapy/cnapy/gui_elements/strain_design_dialog.py?line=962'>963</a>\u001b[0m     but_id \u001b[39m=\u001b[39m \u001b[39mself\u001b[39;49m\u001b[39m.\u001b[39;49mgene_itv[g][\u001b[39m'\u001b[39m\u001b[39mbutton_group\u001b[39m\u001b[39m'\u001b[39m]\u001b[39m.\u001b[39mcheckedId()\n\u001b[0;32m    <a href='file:///c%3A/users/philipp/documents/python/cnapy/cnapy/gui_elements/strain_design_dialog.py?line=963'>964</a>\u001b[0m     \u001b[39mif\u001b[39;00m but_id \u001b[39m==\u001b[39m \u001b[39m1\u001b[39m:\n\u001b[0;32m    <a href='file:///c%3A/users/philipp/documents/python/cnapy/cnapy/gui_elements/strain_design_dialog.py?line=964'>965</a>\u001b[0m         gkoCost\u001b[39m.\u001b[39mupdate({g:\u001b[39mself\u001b[39m\u001b[39m.\u001b[39mgene_itv[g][\u001b[39m'\u001b[39m\u001b[39mcost\u001b[39m\u001b[39m'\u001b[39m]})\n",
      "\u001b[1;31mKeyError\u001b[0m: 'adhE'"
     ]
    }
   ],
   "source": [
    "%autoreload\n",
    "# Create and show the form\n",
    "form = SDDialog(ad,cw)\n",
    "form.show()\n",
    "# form1 = MCSDialog(ad,cw)\n",
    "# form1.show()\n",
    "print('done')\n",
    "# Run the main Qt loop\n",
    "try:\n",
    "    sys.exit(app.exec())\n",
    "except:\n",
    "    pass"
   ]
  }
 ],
 "metadata": {
  "interpreter": {
   "hash": "e8cf2acc5f473dd434bf7ed82be15898117f329f308a42c707e4168ce2116c68"
  },
  "kernelspec": {
   "display_name": "Python 3.7.12 ('cnapy-dev')",
   "language": "python",
   "name": "python3"
  },
  "language_info": {
   "codemirror_mode": {
    "name": "ipython",
    "version": 3
   },
   "file_extension": ".py",
   "mimetype": "text/x-python",
   "name": "python",
   "nbconvert_exporter": "python",
   "pygments_lexer": "ipython3",
   "version": "3.7.12"
  },
  "orig_nbformat": 4
 },
 "nbformat": 4,
 "nbformat_minor": 2
}
